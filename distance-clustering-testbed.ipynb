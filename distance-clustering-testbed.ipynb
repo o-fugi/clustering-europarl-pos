{
 "cells": [
  {
   "cell_type": "code",
   "execution_count": 13,
   "metadata": {},
   "outputs": [],
   "source": [
    "import numpy as np\n",
    "\n",
    "# module for computing a Conditional Frequency Distribution\n",
    "from nltk.probability import ConditionalFreqDist\n",
    "\n",
    "# module for computing a Conditional Probability Distribution\n",
    "from nltk.probability import ConditionalProbDist\n",
    "\n",
    "# module for computing a probability distribution with the Maximum Likelihood Estimate\n",
    "from nltk.probability import LaplaceProbDist\n",
    "\n",
    "# for calculating KL divergence\n",
    "from scipy.stats import entropy\n",
    "\n",
    "# for clustering\n",
    "from scipy.cluster.hierarchy import dendrogram, linkage"
   ]
  },
  {
   "cell_type": "code",
   "execution_count": 7,
   "metadata": {},
   "outputs": [],
   "source": [
    "# this is just for testing data\n",
    "from nltk.corpus import brown\n",
    "\n",
    "tagged_sentences = brown.tagged_sents(categories= 'news')\n",
    "\n",
    "tagged_sentences_list  = []\n",
    "for i in range(10):\n",
    "    tagged_sentences_list.append(tagged_sentences[i*100:(i+1)*100])\n"
   ]
  },
  {
   "cell_type": "code",
   "execution_count": 8,
   "metadata": {},
   "outputs": [],
   "source": [
    "## convert the tagged sentences into conditional probability distributions\n",
    "\n",
    "num_languages = len(tagged_sentences_list)\n",
    "\n",
    "transition_PD_list = []\n",
    "for tagged_sentences in tagged_sentences_list: \n",
    "    # the data object should be an array of tuples of conditions and observations\n",
    "    # in our case the tuples will be of the form (tag_(i),tag_(i+1))\n",
    "    data_by_sent = [[(sentence[i][1], sentence[i+1][1]) for i in range(len(sentence) - 1)] for sentence in tagged_sentences]\n",
    "    data = [tup for sentence in data_by_sent for tup in sentence]\n",
    "\n",
    "    # compute the Conditional Frequency Distribution for a tag given the previous tag\n",
    "    transition_FD = ConditionalFreqDist(data)\n",
    "\n",
    "    # compute the Conditional Probability Distribution for the\n",
    "    # transition probability P(tag_(i+1)|tag_(i)) using the MLEProbDist\n",
    "    # to estimate the probabilities\n",
    "    transition_PD = ConditionalProbDist(transition_FD, LaplaceProbDist)\n",
    "\n",
    "    transition_PD_list.append(transition_PD)\n",
    "\n",
    "# get a list of common POS tags\n",
    "pos_set = set(transition_PD_list[0].conditions())\n",
    "for transition_PD in transition_PD_list:\n",
    "    pos_set = pos_set.intersection(set(transition_PD))\n",
    "\n",
    "pos_list = list(pos_set)"
   ]
  },
  {
   "cell_type": "code",
   "execution_count": 9,
   "metadata": {},
   "outputs": [],
   "source": [
    "## function for getting probabilitity distributions as a matrix\n",
    "## this should be less hard than it is, seriously\n",
    "def conditional_PD_to_matrix(conditional_PD):\n",
    "    prob_matrix = np.zeros(shape=(len(pos_list), len(pos_list)))\n",
    "    for index, pos_condition in enumerate(pos_list):\n",
    "        prob_dist = [conditional_PD[pos_condition].prob(pos) for pos in pos_list]\n",
    "        prob_matrix[index] = prob_dist\n",
    "    return prob_matrix\n",
    "\n",
    "## function for distance between two conditional prob dist\n",
    "def KL_divergence(prob_matrix_1, prob_matrix_2):\n",
    "    total_entropy = 0\n",
    "    for row1, row2 in zip(prob_matrix_1, prob_matrix_2):\n",
    "        total_entropy += entropy(row1, row2)\n",
    "    return total_entropy \n",
    "\n",
    "def frobenius_norm(prob_matrix_1, prob_matrix_2):\n",
    "    return np.linalg.norm(prob_matrix_1 - prob_matrix_2) #Frobenius norm"
   ]
  },
  {
   "cell_type": "code",
   "execution_count": 19,
   "metadata": {},
   "outputs": [],
   "source": [
    "# convert list of PD to list of matrices\n",
    "probdist_matrices = [conditional_PD_to_matrix(PD) for PD in transition_PD_list]\n",
    "\n",
    "# create similarity matrix\n",
    "dist_matrix = np.zeros(shape=(num_languages, num_languages))\n",
    "for i in range(num_languages):\n",
    "    for j in range(i+1, num_languages):\n",
    "        dist_matrix[i][j] = KL_divergence(probdist_matrices[i], probdist_matrices[j])\n",
    "dist_matrix = dist_matrix + dist_matrix.T"
   ]
  },
  {
   "cell_type": "code",
   "execution_count": 20,
   "metadata": {},
   "outputs": [
    {
     "name": "stderr",
     "output_type": "stream",
     "text": [
      "/var/folders/nc/c4sy2sx128xbn1pnq3183yj40000gn/T/ipykernel_17683/688341326.py:3: ClusterWarning: scipy.cluster: The symmetric non-negative hollow observation matrix looks suspiciously like an uncondensed distance matrix\n",
      "  linkage_matrix = linkage(dist_matrix, \"complete\")\n"
     ]
    },
    {
     "data": {
      "text/plain": [
       "{'icoord': [[5.0, 5.0, 15.0, 15.0],\n",
       "  [35.0, 35.0, 45.0, 45.0],\n",
       "  [65.0, 65.0, 75.0, 75.0],\n",
       "  [85.0, 85.0, 95.0, 95.0],\n",
       "  [70.0, 70.0, 90.0, 90.0],\n",
       "  [55.0, 55.0, 80.0, 80.0],\n",
       "  [40.0, 40.0, 67.5, 67.5],\n",
       "  [25.0, 25.0, 53.75, 53.75],\n",
       "  [10.0, 10.0, 39.375, 39.375]],\n",
       " 'dcoord': [[0.0, 7.356198872113362, 7.356198872113362, 0.0],\n",
       "  [0.0, 6.2608475409239395, 6.2608475409239395, 0.0],\n",
       "  [0.0, 5.205580083055815, 5.205580083055815, 0.0],\n",
       "  [0.0, 5.977097563585328, 5.977097563585328, 0.0],\n",
       "  [5.205580083055815, 6.183262891303822, 6.183262891303822, 5.977097563585328],\n",
       "  [0.0, 6.755749880676404, 6.755749880676404, 6.183262891303822],\n",
       "  [6.2608475409239395,\n",
       "   7.504739522085525,\n",
       "   7.504739522085525,\n",
       "   6.755749880676404],\n",
       "  [0.0, 7.944408471399743, 7.944408471399743, 7.504739522085525],\n",
       "  [7.356198872113362,\n",
       "   9.044295027133192,\n",
       "   9.044295027133192,\n",
       "   7.944408471399743]],\n",
       " 'ivl': ['3', '7', '2', '0', '4', '9', '1', '8', '5', '6'],\n",
       " 'leaves': [3, 7, 2, 0, 4, 9, 1, 8, 5, 6],\n",
       " 'color_list': ['C0', 'C1', 'C2', 'C2', 'C2', 'C0', 'C0', 'C0', 'C0'],\n",
       " 'leaves_color_list': ['C0',\n",
       "  'C0',\n",
       "  'C0',\n",
       "  'C1',\n",
       "  'C1',\n",
       "  'C0',\n",
       "  'C2',\n",
       "  'C2',\n",
       "  'C2',\n",
       "  'C2']}"
      ]
     },
     "execution_count": 20,
     "metadata": {},
     "output_type": "execute_result"
    },
    {
     "data": {
      "image/png": "[encoded data removed]",
      "text/plain": [
       "<Figure size 640x480 with 1 Axes>"
      ]
     },
     "metadata": {},
     "output_type": "display_data"
    }
   ],
   "source": [
    "# cluster!\n",
    "\n",
    "linkage_matrix = linkage(dist_matrix, \"complete\")\n",
    "dendrogram(linkage_matrix)\n"
   ]
  }
 ],
 "metadata": {
  "kernelspec": {
   "display_name": "base",
   "language": "python",
   "name": "python3"
  },
  "language_info": {
   "codemirror_mode": {
    "name": "ipython",
    "version": 3
   },
   "file_extension": ".py",
   "mimetype": "text/x-python",
   "name": "python",
   "nbconvert_exporter": "python",
   "pygments_lexer": "ipython3",
   "version": "3.9.7"
  },
  "orig_nbformat": 4,
  "vscode": {
   "interpreter": {
    "hash": "bc0e34c98fa48c414a72dad30aca4365d64be0603c09adfda1a83fce1973ae37"
   }
  }
 },
 "nbformat": 4,
 "nbformat_minor": 2
}

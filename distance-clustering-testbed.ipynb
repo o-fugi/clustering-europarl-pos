{
 "cells": [
  {
   "cell_type": "code",
   "execution_count": 1,
   "metadata": {},
   "outputs": [],
   "source": [
    "# for storing probability matrices and distance matrices\n",
    "import numpy as np\n",
    "\n",
    "# for transition probability matrices and POS freq distributions\n",
    "from nltk.probability import ConditionalFreqDist\n",
    "from nltk.probability import ConditionalProbDist\n",
    "from nltk.probability import LaplaceProbDist\n",
    "from nltk.probability import FreqDist \n",
    "\n",
    "# for calculating JS divergence\n",
    "from scipy.stats import entropy\n",
    "\n",
    "# for clustering\n",
    "from scipy.cluster.hierarchy import dendrogram, linkage"
   ]
  },
  {
   "cell_type": "code",
   "execution_count": 2,
   "metadata": {},
   "outputs": [],
   "source": [
    "# this is just for testing data\n",
    "from nltk.corpus import brown\n",
    "\n",
    "tagged_sentences = brown.tagged_sents(categories= 'news')\n",
    "\n",
    "tagged_sentences_list  = []\n",
    "for i in range(10):\n",
    "    tagged_sentences_list.append(tagged_sentences[i*100:(i+1)*100])"
   ]
  },
  {
   "cell_type": "code",
   "execution_count": 3,
   "metadata": {},
   "outputs": [],
   "source": [
    "## convert the tagged sentences into conditional probability distributions\n",
    "\n",
    "num_languages = len(tagged_sentences_list)\n",
    "\n",
    "transition_PD_list = []\n",
    "tags_FD_list = []\n",
    "for tagged_sentences in tagged_sentences_list: \n",
    "    # the data object should be an array of tuples of conditions and observations\n",
    "    # in our case the tuples will be of the form (tag_(i),tag_(i+1))\n",
    "    data_by_sent = [[(sentence[i][1], sentence[i+1][1]) for i in range(len(sentence) - 1)] for sentence in tagged_sentences]\n",
    "    data = [tup for sentence in data_by_sent for tup in sentence]\n",
    "\n",
    "    # compute the Conditional Frequency Distribution for a tag given the previous tag\n",
    "    transition_FD = ConditionalFreqDist(data)\n",
    "\n",
    "    # compute the Conditional Probability Distribution for the\n",
    "    # transition probability P(tag_(i+1)|tag_(i)) using the MLEProbDist\n",
    "    # to estimate the probabilities\n",
    "    transition_PD = ConditionalProbDist(transition_FD, LaplaceProbDist)\n",
    "\n",
    "    transition_PD_list.append(transition_PD)\n",
    "\n",
    "    # get POS frequency for each language\n",
    "    tags = [word[1] for sentence in tagged_sentences for word in sentence]\n",
    "    tags_FD = FreqDist(tags)\n",
    "    tags_FD_list.append(tags_FD)\n",
    "\n",
    "# get a list of common POS tags\n",
    "pos_set = set(transition_PD_list[0].conditions())\n",
    "for transition_PD in transition_PD_list:\n",
    "    pos_set = pos_set.intersection(set(transition_PD))\n",
    "\n",
    "pos_list = list(pos_set)"
   ]
  },
  {
   "cell_type": "code",
   "execution_count": 4,
   "metadata": {},
   "outputs": [],
   "source": [
    "## function for getting probabilitity distributions as a matrix\n",
    "## this should be less hard than it is, seriously\n",
    "def conditional_PD_to_matrix(conditional_PD):\n",
    "    prob_matrix = np.zeros(shape=(len(pos_list), len(pos_list)))\n",
    "    for index, pos_condition in enumerate(pos_list):\n",
    "        prob_dist = [conditional_PD[pos_condition].prob(pos) for pos in pos_list]\n",
    "        prob_matrix[index] = prob_dist\n",
    "    return prob_matrix\n",
    "\n",
    "## function for distance between two conditional prob dist\n",
    "def JS_divergence(prob_matrix_1, prob_matrix_2, tags_FD_1, tags_FD_2):\n",
    "    total_jsd = 0\n",
    "    total_word_count = sum(tags_FD_1.values()) + sum(tags_FD_2.values()) # total number of words in the 2 languages\n",
    "    for index, pos in enumerate(pos_list):\n",
    "        pos_prob = (tags_FD_1.freq(pos) + tags_FD_2.freq(pos))/total_word_count\n",
    "        jsd = entropy(prob_matrix_1[index], (prob_matrix_1[index] + prob_matrix_2[index])/2) + entropy(prob_matrix_1[index], (prob_matrix_1[index] + prob_matrix_2[index])/2) \n",
    "        total_jsd += pos_prob * jsd/2\n",
    "    return total_jsd \n",
    "\n",
    "def frobenius_norm(prob_matrix_1, prob_matrix_2):\n",
    "    return np.linalg.norm(prob_matrix_1 - prob_matrix_2) #Frobenius norm"
   ]
  },
  {
   "cell_type": "code",
   "execution_count": 5,
   "metadata": {},
   "outputs": [],
   "source": [
    "# convert list of PD to list of matrices\n",
    "probdist_matrices = [conditional_PD_to_matrix(PD) for PD in transition_PD_list]\n",
    "\n",
    "# create similarity matrix\n",
    "dist_matrix = np.zeros(shape=(num_languages, num_languages))\n",
    "for i in range(num_languages):\n",
    "    for j in range(i+1, num_languages):\n",
    "        dist_matrix[i][j] = JS_divergence(probdist_matrices[i], probdist_matrices[j], tags_FD_list[i], tags_FD_list[j])\n",
    "dist_matrix = dist_matrix + dist_matrix.T"
   ]
  },
  {
   "cell_type": "code",
   "execution_count": 6,
   "metadata": {},
   "outputs": [
    {
     "name": "stderr",
     "output_type": "stream",
     "text": [
      "/var/folders/nc/c4sy2sx128xbn1pnq3183yj40000gn/T/ipykernel_20229/3170015865.py:3: ClusterWarning: scipy.cluster: The symmetric non-negative hollow observation matrix looks suspiciously like an uncondensed distance matrix\n",
      "  linkage_matrix = linkage(dist_matrix, \"average\")\n"
     ]
    },
    {
     "data": {
      "text/plain": [
       "{'icoord': [[15.0, 15.0, 25.0, 25.0],\n",
       "  [55.0, 55.0, 65.0, 65.0],\n",
       "  [85.0, 85.0, 95.0, 95.0],\n",
       "  [75.0, 75.0, 90.0, 90.0],\n",
       "  [60.0, 60.0, 82.5, 82.5],\n",
       "  [45.0, 45.0, 71.25, 71.25],\n",
       "  [35.0, 35.0, 58.125, 58.125],\n",
       "  [20.0, 20.0, 46.5625, 46.5625],\n",
       "  [5.0, 5.0, 33.28125, 33.28125]],\n",
       " 'dcoord': [[0.0, 1.7707631153018007e-05, 1.7707631153018007e-05, 0.0],\n",
       "  [0.0, 1.5307292376269894e-05, 1.5307292376269894e-05, 0.0],\n",
       "  [0.0, 1.4222417413232375e-05, 1.4222417413232375e-05, 0.0],\n",
       "  [0.0, 1.58151994287958e-05, 1.58151994287958e-05, 1.4222417413232375e-05],\n",
       "  [1.5307292376269894e-05,\n",
       "   1.6804158829206162e-05,\n",
       "   1.6804158829206162e-05,\n",
       "   1.58151994287958e-05],\n",
       "  [0.0,\n",
       "   1.8124184609387166e-05,\n",
       "   1.8124184609387166e-05,\n",
       "   1.6804158829206162e-05],\n",
       "  [0.0,\n",
       "   2.0422764519757707e-05,\n",
       "   2.0422764519757707e-05,\n",
       "   1.8124184609387166e-05],\n",
       "  [1.7707631153018007e-05,\n",
       "   2.1670815234791696e-05,\n",
       "   2.1670815234791696e-05,\n",
       "   2.0422764519757707e-05],\n",
       "  [0.0,\n",
       "   2.3014425829170706e-05,\n",
       "   2.3014425829170706e-05,\n",
       "   2.1670815234791696e-05]],\n",
       " 'ivl': ['2', '6', '7', '8', '3', '1', '9', '5', '0', '4'],\n",
       " 'leaves': [2, 6, 7, 8, 3, 1, 9, 5, 0, 4],\n",
       " 'color_list': ['C0', 'C1', 'C2', 'C2', 'C0', 'C0', 'C0', 'C0', 'C0'],\n",
       " 'leaves_color_list': ['C0',\n",
       "  'C0',\n",
       "  'C0',\n",
       "  'C0',\n",
       "  'C0',\n",
       "  'C1',\n",
       "  'C1',\n",
       "  'C2',\n",
       "  'C2',\n",
       "  'C2']}"
      ]
     },
     "execution_count": 6,
     "metadata": {},
     "output_type": "execute_result"
    },
    {
     "data": {
      "image/png": "[encoded data removed]",
      "text/plain": [
       "<Figure size 640x480 with 1 Axes>"
      ]
     },
     "metadata": {},
     "output_type": "display_data"
    }
   ],
   "source": [
    "# cluster!\n",
    "\n",
    "linkage_matrix = linkage(dist_matrix, \"average\")\n",
    "dendrogram(linkage_matrix)\n"
   ]
  },
  {
   "cell_type": "code",
   "execution_count": null,
   "metadata": {},
   "outputs": [],
   "source": []
  }
 ],
 "metadata": {
  "kernelspec": {
   "display_name": "base",
   "language": "python",
   "name": "python3"
  },
  "language_info": {
   "codemirror_mode": {
    "name": "ipython",
    "version": 3
   },
   "file_extension": ".py",
   "mimetype": "text/x-python",
   "name": "python",
   "nbconvert_exporter": "python",
   "pygments_lexer": "ipython3",
   "version": "3.9.7"
  },
  "orig_nbformat": 4,
  "vscode": {
   "interpreter": {
    "hash": "bc0e34c98fa48c414a72dad30aca4365d64be0603c09adfda1a83fce1973ae37"
   }
  }
 },
 "nbformat": 4,
 "nbformat_minor": 2
}

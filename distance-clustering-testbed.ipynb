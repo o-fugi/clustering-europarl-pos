{
 "cells": [
  {
   "cell_type": "code",
   "execution_count": 1,
   "metadata": {},
   "outputs": [],
   "source": [
    "# for storing probability matrices and distance matrices\n",
    "import numpy as np\n",
    "\n",
    "# for transition probability matrices and POS freq distributions\n",
    "from nltk.probability import ConditionalFreqDist\n",
    "from nltk.probability import ConditionalProbDist\n",
    "from nltk.probability import LaplaceProbDist\n",
    "from nltk.probability import FreqDist \n",
    "\n",
    "# for calculating JS divergence\n",
    "from scipy.stats import entropy\n",
    "\n",
    "# for clustering\n",
    "from scipy.cluster.hierarchy import dendrogram, linkage"
   ]
  },
  {
   "cell_type": "code",
   "execution_count": 2,
   "metadata": {},
   "outputs": [],
   "source": [
    "# this is just for testing data\n",
    "from nltk.corpus import brown\n",
    "\n",
    "tagged_sentences = brown.tagged_sents(categories= 'news')\n",
    "\n",
    "tagged_sentences_list  = []\n",
    "for i in range(10):\n",
    "    tagged_sentences_list.append(tagged_sentences[i*100:(i+1)*100])"
   ]
  },
  {
   "cell_type": "code",
   "execution_count": 3,
   "metadata": {},
   "outputs": [],
   "source": [
    "import pickle\n",
    "\n",
    "tagged_sentences_list = pickle.load(open('pos_tags.p', 'rb'))"
   ]
  },
  {
   "cell_type": "code",
   "execution_count": 4,
   "metadata": {},
   "outputs": [],
   "source": [
    "## convert the tagged sentences into conditional probability distributions\n",
    "\n",
    "num_languages = len(tagged_sentences_list)\n",
    "\n",
    "transition_PD_list = []\n",
    "tags_FD_list = []\n",
    "for tagged_sentences in tagged_sentences_list: \n",
    "    # the data object should be an array of tuples of conditions and observations\n",
    "    # in our case the tuples will be of the form (tag_(i),tag_(i+1))\n",
    "    #data_by_sent = [[(sentence[i][1], sentence[i+1][1]) for i in range(len(sentence) - 1)] for sentence in tagged_sentences]\n",
    "    #data = [tup for sentence in data_by_sent for tup in sentence]\n",
    "    data = [(tagged_sentences[i], tagged_sentences[i+1]) for i in range(len(tagged_sentences)-1)]\n",
    "\n",
    "    # compute the Conditional Frequency Distribution for a tag given the previous tag\n",
    "    transition_FD = ConditionalFreqDist(data)\n",
    "\n",
    "    # compute the Conditional Probability Distribution for the\n",
    "    # transition probability P(tag_(i+1)|tag_(i)) using the MLEProbDist\n",
    "    # to estimate the probabilities\n",
    "    transition_PD = ConditionalProbDist(transition_FD, LaplaceProbDist)\n",
    "\n",
    "    transition_PD_list.append(transition_PD)\n",
    "\n",
    "    # get POS frequency for each language\n",
    "    #tags = [word[1] for sentence in tagged_sentences for word in sentence]\n",
    "    tags_FD = FreqDist(tagged_sentences)\n",
    "    tags_FD_list.append(tags_FD)\n",
    "\n",
    "# get a list of common POS tags\n",
    "pos_set = set(transition_PD_list[0].conditions())\n",
    "for transition_PD in transition_PD_list:\n",
    "    pos_set = pos_set.intersection(set(transition_PD))\n",
    "\n",
    "pos_list = list(pos_set)"
   ]
  },
  {
   "cell_type": "code",
   "execution_count": 5,
   "metadata": {},
   "outputs": [],
   "source": [
    "## function for getting probabilitity distributions as a matrix\n",
    "## this should be less hard than it is, seriously\n",
    "def conditional_PD_to_matrix(conditional_PD):\n",
    "    prob_matrix = np.zeros(shape=(len(pos_list), len(pos_list)))\n",
    "    for index, pos_condition in enumerate(pos_list):\n",
    "        prob_dist = [conditional_PD[pos_condition].prob(pos) for pos in pos_list]\n",
    "        prob_matrix[index] = prob_dist\n",
    "    return prob_matrix\n",
    "\n",
    "## function for distance between two conditional prob dist\n",
    "def JS_divergence(prob_matrix_1, prob_matrix_2, tags_FD_1, tags_FD_2):\n",
    "    total_jsd = 0\n",
    "    total_word_count = sum(tags_FD_1.values()) + sum(tags_FD_2.values()) # total number of words in the 2 languages\n",
    "    for index, pos in enumerate(pos_list):\n",
    "        pos_prob = (tags_FD_1.freq(pos) + tags_FD_2.freq(pos))/total_word_count\n",
    "        jsd = entropy(prob_matrix_1[index], (prob_matrix_1[index] + prob_matrix_2[index])/2) + entropy(prob_matrix_1[index], (prob_matrix_1[index] + prob_matrix_2[index])/2) \n",
    "        total_jsd += pos_prob * jsd/2\n",
    "    return total_jsd \n",
    "\n",
    "def frobenius_norm(prob_matrix_1, prob_matrix_2):\n",
    "    return np.linalg.norm(prob_matrix_1 - prob_matrix_2) #Frobenius norm"
   ]
  },
  {
   "cell_type": "code",
   "execution_count": 6,
   "metadata": {},
   "outputs": [],
   "source": [
    "# convert list of PD to list of matrices\n",
    "probdist_matrices = [conditional_PD_to_matrix(PD) for PD in transition_PD_list]\n",
    "\n",
    "# create similarity matrix\n",
    "dist_matrix = np.zeros(shape=(num_languages, num_languages))\n",
    "for i in range(num_languages):\n",
    "    for j in range(i+1, num_languages):\n",
    "        dist_matrix[i][j] = JS_divergence(probdist_matrices[i], probdist_matrices[j], tags_FD_list[i], tags_FD_list[j])\n",
    "dist_matrix = dist_matrix + dist_matrix.T"
   ]
  },
  {
   "cell_type": "code",
   "execution_count": 7,
   "metadata": {},
   "outputs": [
    {
     "name": "stderr",
     "output_type": "stream",
     "text": [
      "/var/folders/nc/c4sy2sx128xbn1pnq3183yj40000gn/T/ipykernel_52004/3886184119.py:5: ClusterWarning: scipy.cluster: The symmetric non-negative hollow observation matrix looks suspiciously like an uncondensed distance matrix\n",
      "  linkage_matrix = linkage(dist_matrix, \"average\")\n"
     ]
    },
    {
     "data": {
      "text/plain": [
       "{'icoord': [[35.0, 35.0, 45.0, 45.0],\n",
       "  [25.0, 25.0, 40.0, 40.0],\n",
       "  [15.0, 15.0, 32.5, 32.5],\n",
       "  [55.0, 55.0, 65.0, 65.0],\n",
       "  [23.75, 23.75, 60.0, 60.0],\n",
       "  [5.0, 5.0, 41.875, 41.875]],\n",
       " 'dcoord': [[0.0, 4.697175132323109e-08, 4.697175132323109e-08, 0.0],\n",
       "  [0.0, 1.4576822774860397e-07, 1.4576822774860397e-07, 4.697175132323109e-08],\n",
       "  [0.0,\n",
       "   1.5806950115932573e-07,\n",
       "   1.5806950115932573e-07,\n",
       "   1.4576822774860397e-07],\n",
       "  [0.0, 2.3608421854533242e-07, 2.3608421854533242e-07, 0.0],\n",
       "  [1.5806950115932573e-07,\n",
       "   2.592677799225916e-07,\n",
       "   2.592677799225916e-07,\n",
       "   2.3608421854533242e-07],\n",
       "  [0.0, 3.783548665380891e-07, 3.783548665380891e-07, 2.592677799225916e-07]],\n",
       " 'ivl': ['hungarian',\n",
       "  'italian',\n",
       "  'polish',\n",
       "  'portuguese',\n",
       "  'spanish',\n",
       "  'english',\n",
       "  'german'],\n",
       " 'leaves': [2, 3, 4, 5, 6, 0, 1],\n",
       " 'color_list': ['C1', 'C1', 'C1', 'C1', 'C1', 'C0'],\n",
       " 'leaves_color_list': ['C0', 'C1', 'C1', 'C1', 'C1', 'C1', 'C1']}"
      ]
     },
     "execution_count": 7,
     "metadata": {},
     "output_type": "execute_result"
    },
    {
     "data": {
      "image/png": "[encoded data removed]",
      "text/plain": [
       "<Figure size 640x480 with 1 Axes>"
      ]
     },
     "metadata": {},
     "output_type": "display_data"
    }
   ],
   "source": [
    "# cluster!\n",
    "\n",
    "labels = ['english', 'german', 'hungarian', 'italian', 'polish', 'portuguese', 'spanish']\n",
    "\n",
    "linkage_matrix = linkage(dist_matrix, \"average\")\n",
    "dendrogram(linkage_matrix, labels=labels)\n"
   ]
  },
  {
   "cell_type": "code",
   "execution_count": null,
   "metadata": {},
   "outputs": [],
   "source": []
  }
 ],
 "metadata": {
  "kernelspec": {
   "display_name": "base",
   "language": "python",
   "name": "python3"
  },
  "language_info": {
   "codemirror_mode": {
    "name": "ipython",
    "version": 3
   },
   "file_extension": ".py",
   "mimetype": "text/x-python",
   "name": "python",
   "nbconvert_exporter": "python",
   "pygments_lexer": "ipython3",
   "version": "3.9.7"
  },
  "orig_nbformat": 4,
  "vscode": {
   "interpreter": {
    "hash": "bc0e34c98fa48c414a72dad30aca4365d64be0603c09adfda1a83fce1973ae37"
   }
  }
 },
 "nbformat": 4,
 "nbformat_minor": 2
}
